{
 "cells": [
  {
   "cell_type": "code",
   "execution_count": 1,
   "id": "43580213-cc13-42a5-ad6d-ce1f6e7323cb",
   "metadata": {},
   "outputs": [],
   "source": [
    "import numpy as np\n",
    "import cv2\n",
    "from collections import deque"
   ]
  },
  {
   "cell_type": "code",
   "execution_count": 55,
   "id": "198644fb-3d69-401f-87de-2fbb56e8d489",
   "metadata": {},
   "outputs": [
    {
     "data": {
      "text/plain": [
       "True"
      ]
     },
     "execution_count": 55,
     "metadata": {},
     "output_type": "execute_result"
    }
   ],
   "source": [
    "cap=cv2.VideoCapture('volleyball_match.mp4')\n",
    "cap.isOpened()"
   ]
  },
  {
   "cell_type": "code",
   "execution_count": 41,
   "id": "a71abed9-9edc-4629-b792-7b6f731f7888",
   "metadata": {},
   "outputs": [],
   "source": [
    "yellow_players_list=deque(maxlen=140)\n",
    "red_players_list=deque(maxlen=140)\n",
    "y,r=0,0"
   ]
  },
  {
   "cell_type": "code",
   "execution_count": 4,
   "id": "934b26b2-e1cf-4c39-afd6-7d7e0404992b",
   "metadata": {},
   "outputs": [
    {
     "data": {
      "text/plain": [
       "(28, 720, 1280)"
      ]
     },
     "execution_count": 4,
     "metadata": {},
     "output_type": "execute_result"
    }
   ],
   "source": [
    "frame_width=int(cap.get(cv2.CAP_PROP_FRAME_WIDTH))\n",
    "frame_height=int(cap.get(cv2.CAP_PROP_FRAME_HEIGHT))\n",
    "fps=int(cap.get(cv2.CAP_PROP_FPS))\n",
    "fps,frame_height,frame_width"
   ]
  },
  {
   "cell_type": "code",
   "execution_count": 5,
   "id": "70b70a3f-43c8-4e2e-8847-b2ba6d908e1a",
   "metadata": {},
   "outputs": [],
   "source": [
    "saver=cv2.VideoWriter('final_output.mp4',cv2.VideoWriter_fourcc(*'mp4v'),fps,(frame_width,frame_height))\n",
    "bg_sub=cv2.createBackgroundSubtractorKNN(history=60,dist2Threshold=10000,detectShadows=False)"
   ]
  },
  {
   "cell_type": "code",
   "execution_count": 6,
   "id": "1d2336f4-7949-43a7-b376-a230e7b6781a",
   "metadata": {},
   "outputs": [],
   "source": [
    "def score(hull):\n",
    "    area = cv2.contourArea(hull)\n",
    "    perimeter = cv2.arcLength(hull, True)\n",
    "    x, y, w, h = cv2.boundingRect(hull)\n",
    "    aspect_ratio = float(w) / h\n",
    "    \n",
    "    if perimeter > 0 and 150 < area < 220:\n",
    "        circularity = (4 * np.pi * area) / (perimeter ** 2)\n",
    "        (encircle_x, encircle_y), radius = cv2.minEnclosingCircle(hull)\n",
    "        fit_ratio = area / (np.pi * radius ** 2) \n",
    "    \n",
    "        score = (circularity * 0.2) + (fit_ratio * 0.3) + ((0.9 <= aspect_ratio <= 1.1) * 0.1) \n",
    "        return -1*score\n",
    "    return 0"
   ]
  },
  {
   "cell_type": "code",
   "execution_count": 63,
   "id": "a96c2c70-e998-4129-833b-9a0da784d991",
   "metadata": {},
   "outputs": [],
   "source": [
    "while cap.isOpened():\n",
    "    _,frame=cap.read()\n",
    "\n",
    "    if not _:\n",
    "        break\n",
    "\n",
    "    loss=np.inf\n",
    "    \n",
    "    hsv_frame=cv2.cvtColor(frame,cv2.COLOR_BGR2HSV)\n",
    "    \n",
    "    lower_bound = np.array([8, 100, 100])\n",
    "    upper_bound = np.array([40, 255, 255]) \n",
    "    \n",
    "    hsv_mask=cv2.inRange(hsv_frame,lower_bound,upper_bound)\n",
    "    hsv_mask=cv2.GaussianBlur(hsv_mask,(3,3),0)\n",
    "    \n",
    "    mask=hsv_mask\n",
    "    \n",
    "    contours,_=cv2.findContours(mask,cv2.RETR_EXTERNAL,cv2.CHAIN_APPROX_SIMPLE)\n",
    "    \n",
    "    for contour in contours:\n",
    "        hull=cv2.convexHull(contour)\n",
    "        loss_now=score(hull)\n",
    "        if loss_now<loss:\n",
    "            best_hull=hull\n",
    "            loss=loss_now\n",
    "    (x,y),rad=cv2.minEnclosingCircle(best_hull)\n",
    "    cv2.circle(frame,(int(x),int(y)),int(rad),(0,255,0),3)\n",
    "\n",
    "    yellow_lower = np.array([5, 0, 100])\n",
    "    yellow_upper = np.array([67, 255, 255])\n",
    "    red_lower = np.array([175, 137, 100])\n",
    "    red_upper = np.array([178, 255, 255])\n",
    "    white_lower=np.array([0,0,0])\n",
    "    white_upper=np.array([0,0,0])\n",
    "\n",
    "    yellow_mask = cv2.inRange(hsv_frame, yellow_lower, yellow_upper)\n",
    "    red_mask = cv2.inRange(hsv_frame, red_lower, red_upper)\n",
    "    white_mask = cv2.inRange(hsv_frame, white_lower, white_upper)\n",
    "    \n",
    "    kernel = cv2.getStructuringElement(cv2.MORPH_ELLIPSE, (5, 5))\n",
    "    \n",
    "    yellow_mask = cv2.morphologyEx(yellow_mask, cv2.MORPH_OPEN, kernel)\n",
    "    red_mask = cv2.morphologyEx(red_mask, cv2.MORPH_OPEN, kernel)\n",
    "    white_mask = cv2.morphologyEx(white_mask, cv2.MORPH_OPEN, kernel)\n",
    "\n",
    "    yellow_contours, _ = cv2.findContours(yellow_mask, cv2.RETR_EXTERNAL, cv2.CHAIN_APPROX_SIMPLE)\n",
    "    red_contours, _ = cv2.findContours(red_mask, cv2.RETR_EXTERNAL, cv2.CHAIN_APPROX_SIMPLE)\n",
    "    white_contours,_=cv2.findContours(white_mask, cv2.RETR_EXTERNAL, cv2.CHAIN_APPROX_SIMPLE)\n",
    "    \n",
    "\n",
    "    yellow_players = 0\n",
    "    red_players = 0  \n",
    "    for contour in yellow_contours:\n",
    "        area = cv2.contourArea(contour)\n",
    "        if area > 500: \n",
    "            yellow_players += 1\n",
    "\n",
    "    for contour in red_contours:\n",
    "        area = cv2.contourArea(contour)\n",
    "        if area > 500: \n",
    "            red_players += 1\n",
    "    for contour in white_contours:\n",
    "        area = cv2.contourArea(contour)\n",
    "        if area > 500: \n",
    "            red_players += 1\n",
    "    \n",
    "    yellow_players_list.append(yellow_players)\n",
    "    red_players_list.append(red_players)\n",
    "\n",
    "    avg_yellow_players = sum(yellow_players_list) / len(yellow_players_list) if yellow_players_list!=0 else 0\n",
    "    avg_red_players = sum(red_players_list) / len(red_players_list) if red_players_list!=0 else 0\n",
    "\n",
    "\n",
    "    cv2.putText(frame, f\"Number of yellow players: {yellow_players}\", (10, 30), cv2.FONT_HERSHEY_SIMPLEX, 0.7, (0, 255, 255), 2) # Yellow color\n",
    "    cv2.putText(frame, f\"Number of red players: {red_players}\", (10, 60), cv2.FONT_HERSHEY_SIMPLEX, 0.7, (0, 0, 255), 2)   # Red color\n",
    "    cv2.putText(frame, f\"Number of yellow players (averaged over 5s: {int(avg_yellow_players)}\", (10, 90), cv2.FONT_HERSHEY_SIMPLEX, 0.7, (0, 255, 255), 2) # Yellow color\n",
    "    cv2.putText(frame, f\"Number of red players (averaged over 5s): {int(avg_red_players)}\", (10, 120), cv2.FONT_HERSHEY_SIMPLEX, 0.7, (0, 0, 255), 2) # Red color\n",
    "    \n",
    "    cv2.imshow('hsv_mask',hsv_mask)\n",
    "    cv2.imshow('mask',mask)\n",
    "    # cv2.drawContours(frame,contours,-1,(0,255,0),3)\n",
    "    cv2.imshow('frame',frame) \n",
    "    if cv2.waitKey(1)&0xFF==ord('q')|ord('Q'):\n",
    "    # cv2.waitKey(0)\n",
    "        cv2.destroyAllWindows()\n",
    "        break\n",
    "    # cv2.waitKey(200)\n",
    "cv2.destroyAllWindows()"
   ]
  },
  {
   "cell_type": "markdown",
   "id": "40421bae-6a19-4bdb-a6b6-cad952965f42",
   "metadata": {},
   "source": [
    "<h1>Determining the best bound values</h1>"
   ]
  },
  {
   "cell_type": "code",
   "execution_count": 23,
   "id": "e6cbe99c-be60-4fd7-97d7-63a85ccf4675",
   "metadata": {},
   "outputs": [],
   "source": [
    "_,frame=cap.read()\n",
    "\n",
    "def nothing(X):\n",
    "    pass\n",
    "\n",
    "cv2.namedWindow('adjusters')\n",
    "cv2.createTrackbar('LH','adjusters',0,255,nothing)\n",
    "cv2.createTrackbar('LS','adjusters',0,255,nothing)\n",
    "cv2.createTrackbar('LV','adjusters',0,255,nothing)\n",
    "cv2.createTrackbar('HH','adjusters',0,255,nothing)\n",
    "cv2.createTrackbar('HS','adjusters',0,255,nothing)\n",
    "cv2.createTrackbar('HV','adjusters',0,255,nothing)\n",
    "\n",
    "while True:\n",
    "    LH=cv2.getTrackbarPos('LH','adjusters')\n",
    "    LV=cv2.getTrackbarPos('LV','adjusters')\n",
    "    LS=cv2.getTrackbarPos('LS','adjusters')\n",
    "    UH=cv2.getTrackbarPos('HH','adjusters')\n",
    "    US=cv2.getTrackbarPos('HS','adjusters')\n",
    "    UV=cv2.getTrackbarPos('HV','adjusters')\n",
    "\n",
    "    \n",
    "    lower_bound = np.array([LH, LS, LV])\n",
    "    upper_bound = np.array([UH, US, UV]) \n",
    "\n",
    "    hsv_frame=cv2.cvtColor(frame,cv2.COLOR_BGR2HSV)\n",
    "\n",
    "    hsv_mask=cv2.inRange(hsv_frame,lower_bound,upper_bound)\n",
    "    hsv_mask=cv2.GaussianBlur(hsv_mask,(3,3),0)\n",
    "    \n",
    "    cv2.imshow('hsv_mask',hsv_mask)\n",
    "    cv2.imshow('frame',frame) \n",
    "    if cv2.waitKey(1)&0xFF==ord('q'):\n",
    "    # cv2.waitKey(0)\n",
    "        cv2.destroyAllWindows()\n",
    "        break"
   ]
  },
  {
   "cell_type": "markdown",
   "id": "de297e66-2a99-4a46-b3b4-f6cf99ac1141",
   "metadata": {},
   "source": [
    "Values used above were determined to be the best"
   ]
  }
 ],
 "metadata": {
  "kernelspec": {
   "display_name": "Python 3 (ipykernel)",
   "language": "python",
   "name": "python3"
  },
  "language_info": {
   "codemirror_mode": {
    "name": "ipython",
    "version": 3
   },
   "file_extension": ".py",
   "mimetype": "text/x-python",
   "name": "python",
   "nbconvert_exporter": "python",
   "pygments_lexer": "ipython3",
   "version": "3.12.2"
  }
 },
 "nbformat": 4,
 "nbformat_minor": 5
}
