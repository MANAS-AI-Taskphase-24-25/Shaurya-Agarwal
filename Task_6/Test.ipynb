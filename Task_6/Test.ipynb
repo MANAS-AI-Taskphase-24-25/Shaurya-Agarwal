{
 "cells": [
  {
   "cell_type": "code",
   "execution_count": 11,
   "id": "b81d2b5f-4c6b-47b3-ac7a-c7ab7de5898d",
   "metadata": {},
   "outputs": [],
   "source": [
    "import cv2\n",
    "import numpy as np"
   ]
  },
  {
   "cell_type": "code",
   "execution_count": 13,
   "id": "bd392269-01ea-482f-a31c-7886285319ae",
   "metadata": {},
   "outputs": [
    {
     "data": {
      "text/plain": [
       "True"
      ]
     },
     "execution_count": 13,
     "metadata": {},
     "output_type": "execute_result"
    }
   ],
   "source": [
    "cap=cv2.VideoCapture('volleyball_match.mp4')\n",
    "cap.isOpened()"
   ]
  },
  {
   "cell_type": "code",
   "execution_count": 15,
   "id": "2382213f-07e4-4aec-97bc-db1bb0638989",
   "metadata": {},
   "outputs": [],
   "source": [
    "def frame_diff(prev_frame, cur_frame,next_frame):\n",
    "    diff_frames1=cv2.absdiff(next_frame,cur_frame)\n",
    "    diff_frame2=cv2.absdiff(cur_frame,prev_frame)\n",
    "    return cv2.bitwise_and(diff_frame2,diff_frames1)\n",
    "def get_frame(cap):\n",
    "    _,frame=cap.read()\n",
    "    frame=cv2.resize(frame,None,fx=scaling_factor,fy=scaling_factor,interpolation=cv2.INTER_AREA)\n",
    "    return cv2.cvtColor(frame,cv2.COLOR_RGB2GRAY)\n",
    "\n",
    "scaling_factor=1\n",
    "\n",
    "prev_frame=get_frame(cap)\n",
    "cur_frame=get_frame(cap)\n",
    "next_frame=get_frame(cap)\n",
    "\n",
    "while True:\n",
    "    cv2.imshow(\"Object Movement\",frame_diff(prev_frame,cur_frame,next_frame))\\\n",
    "\n",
    "    prev_frame=cur_frame\n",
    "    cur_frame=next_frame\n",
    "    next_frame=get_frame(cap)\n",
    "\n",
    "    key=cv2.waitKey(1)\n",
    "    if key==27:\n",
    "        break\n",
    "cv2.destroyAllWindows()"
   ]
  },
  {
   "cell_type": "code",
   "execution_count": null,
   "id": "2fcb8844-2fb5-41cb-a93b-839eacc3fce6",
   "metadata": {},
   "outputs": [],
   "source": [
    "class ObjectTracker(object):\n",
    "    def __init__(self,cap,scaling_factor):\n",
    "        self.cap=cap\n",
    "        _,self.frame=self.cap.read()\n",
    "        self.scaling_factor=scaling_factor\n",
    "        self.frame=cv2.resize(self.frame,None,fx=scaling_factor,fy=scaling_factor,interpolation=cv2.INTER_AREA)\n",
    "        cv2.namedWindow('Tracker')\n",
    "        cv2.setMouseCallback('Tracker',self.mouse_event)\n",
    "    \n",
    "        self.selection=None\n",
    "        self.drag_start=None\n",
    "        self.tracking_state=0\n",
    "\n",
    "    def mouse_event(self,event,x,y,flags,params):\n",
    "        x,y=np.int16([x,y])\n",
    "        if event==cv2.EVENT_LBUTTONDOWN:\n",
    "            self.drag_start=(x,y)\n",
    "            self.tracking_state=0\n",
    "        if self.drag_start:\n",
    "            if flags & cv2.EVENT_FLAG_LBUTTON:\n",
    "                h,w=self.frame.shape[:2]\n",
    "                xo,yo=self.drag_start\n",
    "                xo,yo=np.maximui"
   ]
  }
 ],
 "metadata": {
  "kernelspec": {
   "display_name": "Python 3 (ipykernel)",
   "language": "python",
   "name": "python3"
  },
  "language_info": {
   "codemirror_mode": {
    "name": "ipython",
    "version": 3
   },
   "file_extension": ".py",
   "mimetype": "text/x-python",
   "name": "python",
   "nbconvert_exporter": "python",
   "pygments_lexer": "ipython3",
   "version": "3.12.2"
  }
 },
 "nbformat": 4,
 "nbformat_minor": 5
}
